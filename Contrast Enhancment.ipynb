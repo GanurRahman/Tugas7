{
 "cells": [
  {
   "cell_type": "code",
   "execution_count": 1,
   "metadata": {},
   "outputs": [],
   "source": [
    "import numpy as np #data dalam bentuk array\n",
    "import matplotlib.pyplot as plt #membuat grafik dan visualisasi data dalam bentuk grafik\n",
    "%matplotlib inline\n",
    "import cv2 #mengimpor gambar\n",
    "import matplotlib.image as mpimg #ntuk membaca, menulis, dan memanipulasi gambar dalam berbagai format\n",
    "from skimage import data #menggunakan modul data yang disediakan oleh pustaka skimage"
   ]
  },
  {
   "cell_type": "code",
   "execution_count": 2,
   "metadata": {},
   "outputs": [],
   "source": [
    "image = cv2.imread(\"curug.jpg\",cv2.IMREAD_GRAYSCALE) #mengubah gambar menjadi abu abu"
   ]
  },
  {
   "cell_type": "code",
   "execution_count": 3,
   "metadata": {},
   "outputs": [],
   "source": [
    "image_equalized = cv2.equalizeHist(image) #untuk menghasilkan citra yang disejajarkan histogramnya (histogram equalization) dari citra image menggunakan fungsi equalizeHist() dari modul cv2 (OpenCV\n"
   ]
  },
  {
   "cell_type": "code",
   "execution_count": 4,
   "metadata": {},
   "outputs": [],
   "source": [
    "clahe = cv2.createCLAHE(clipLimit=2, tileGridSize=(8,8)) #untuk membuat objek CLAHE (Contrast Limited Adaptive Histogram Equalization) menggunakan fungsi createCLAHE() dari modul cv2 (OpenCV).\n",
    "\n",
    "#Apply CLAHE to the original image\n",
    "image_clahe = clahe.apply(image)\n"
   ]
  },
  {
   "cell_type": "code",
   "execution_count": 5,
   "metadata": {},
   "outputs": [],
   "source": [
    "# Create an empty array to store the final output\n",
    "image_cs = np.zeros((image.shape[0],image.shape[1]),dtype = 'uint8')\n",
    "\n",
    "# Apply Min-Max Contrasting\n",
    "min = np.min(image)\n",
    "max = np.max(image)\n",
    "\n",
    "for i in range(image.shape[0]): #untuk melakukan iterasi (perulangan) pada range nilai dari 0 hingga jumlah baris (dimensi pertama) dari citra image\n",
    "    for j in range(image.shape[1]):\n",
    "        image_cs[i,j] = 255*(image[i,j]-min)/(max-min) #untuk melakukan normalisasi kontras linier pada nilai piksel tertentu"
   ]
  },
  {
   "cell_type": "code",
   "execution_count": 6,
   "metadata": {},
   "outputs": [],
   "source": [
    "copyCamera = image.copy().astype(float) #untuk membuat salinan citra\n",
    "\n",
    "m1,n1 = copyCamera.shape #untuk mengambil dimensi (jumlah baris dan kolom) dari citra dan menyimpannya dalam variabel m1 dan n1.\n",
    "output1 = np.empty([m1, n1])\n",
    "\n",
    "for baris in range(0, m1-1): #untuk melakukan iterasi (perulangan) pada range nilai dari 0 hingga m1-1 jumlah baris\n",
    "    for kolom in range(0, n1-1): #untuk melakukan iterasi (perulangan) pada range nilai dari 0 hingga m1-1 jumlah kolom\n",
    "        a1 = baris\n",
    "        b1 = kolom\n",
    "        output1[a1, b1] = copyCamera[baris, kolom] * 1.9"
   ]
  },
  {
   "cell_type": "code",
   "execution_count": 8,
   "metadata": {},
   "outputs": [],
   "source": [
    "fig, axes = plt.subplots(5, 2, figsize=(20, 20)) #untuk membuat objek gambar (figure) dan objek sumbu (axes) dalam bentuk grid berukuran 5 baris dan 2 kolom dengan ukuran (dimensi) gambar sebesar 20x20 inci\n",
    "ax = axes.ravel() # untuk meratakan (flatten) objek array \n",
    "\n",
    "ax[0].imshow(image, cmap=plt.cm.gray) #Gambar ditampilkan dalam skala abu-abu (grayscale) dengan menggunakan map pewarnaan (colormap) plt.cm.gray yang diberikan oleh pustaka Matplotlib\n",
    "ax[0].set_title(\"Citra Input\") #judul\n",
    "ax[1].hist(image.ravel(), bins=256)#untuk membuat histogram dari gambar img dan menampilkannya pada sumbu (axis) indeks ke-1 dari objek axes\n",
    "ax[1].set_title('Histogram Input') #judul\n",
    "\n",
    "ax[2].imshow(image_equalized, cmap=plt.cm.gray)\n",
    "ax[2].set_title(\"Citra Output HE\")\n",
    "ax[3].hist(image_equalized.ravel(), bins=256)\n",
    "ax[3].set_title('Histogram Output HE Method')\n",
    "\n",
    "ax[4].imshow(image_cs, cmap=plt.cm.gray)\n",
    "ax[4].set_title(\"Citra Output CS\")\n",
    "ax[5].hist(image_cs.ravel(), bins=256)\n",
    "ax[5].set_title('Histogram Output CS Method')\n",
    "\n",
    "ax[6].imshow(image_clahe, cmap=plt.cm.gray)\n",
    "ax[6].set_title(\"Citra Grayscale CLAHE\")\n",
    "ax[7].hist(image_clahe.ravel(), bins=256)\n",
    "ax[7].set_title('Histogram Output CLAHE Method')\n",
    "\n",
    "ax[8].imshow(output1, cmap=plt.cm.gray)\n",
    "ax[8].set_title(\"Citra Grayscale Perkalian Konstanta\")\n",
    "ax[9].hist(output1.ravel(), bins=256)\n",
    "ax[9].set_title('Histogram Output Perkalian Konstanta Method')\n",
    "\n",
    "fig.tight_layout() #ntuk mengatur tata letak (layout) yang rapi dan padat pada objek gambar"
   ]
  }
 ],
 "metadata": {
  "kernelspec": {
   "display_name": "Python 3",
   "language": "python",
   "name": "python3"
  },
  "language_info": {
   "codemirror_mode": {
    "name": "ipython",
    "version": 3
   },
   "file_extension": ".py",
   "mimetype": "text/x-python",
   "name": "python",
   "nbconvert_exporter": "python",
   "pygments_lexer": "ipython3",
   "version": "3.11.3"
  },
  "orig_nbformat": 4
 },
 "nbformat": 4,
 "nbformat_minor": 2
}
